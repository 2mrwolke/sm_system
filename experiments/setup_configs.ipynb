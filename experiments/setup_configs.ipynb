{
 "cells": [
  {
   "cell_type": "code",
   "id": "075cba35-9d41-4945-9a81-b953577505ce",
   "metadata": {
    "tags": [],
    "ExecuteTime": {
     "end_time": "2025-06-27T09:27:12.617195Z",
     "start_time": "2025-06-27T09:27:10.419028Z"
    }
   },
   "source": [
    "import os\n",
    "import sys\n",
    "from pathlib import Path\n",
    "import time\n",
    "import numpy as np\n",
    "sys.path.append(str(Path(os.getcwd()).parent))\n",
    "time.sleep(1)\n",
    "from module.config import Configuration\n",
    "PI = np.pi"
   ],
   "outputs": [],
   "execution_count": 1
  },
  {
   "cell_type": "code",
   "id": "d6dd6e97-6e42-489e-b0ab-00d1c58e7788",
   "metadata": {
    "tags": [],
    "ExecuteTime": {
     "end_time": "2025-06-27T09:27:16.847419Z",
     "start_time": "2025-06-27T09:27:16.839372Z"
    }
   },
   "source": [
    "####\n",
    "# Global configuration:\n",
    "####\n",
    "\n",
    "verbose = False\n",
    "\n",
    "sample_rate = 96_000\n",
    "seed = 42\n",
    "probes_n = 68\n",
    "probes_fbase = 1000\n",
    "probes_fvoice = 16_000\n",
    "probes_batches = 8\n",
    "probes_resolution = 1000\n",
    "probes_signaltime = 0.01\n",
    "probes_transient_time = 0.004"
   ],
   "outputs": [],
   "execution_count": 2
  },
  {
   "metadata": {
    "ExecuteTime": {
     "end_time": "2025-06-27T09:27:20.339915Z",
     "start_time": "2025-06-27T09:27:20.307578Z"
    }
   },
   "cell_type": "code",
   "source": [
    "####\n",
    "# Experiment: prove_of_concept\n",
    "####\n",
    "\n",
    "comment = \"\"\"Configuration for software simulation that proves the concept of parameter identification of SM-Systems.\n",
    "\n",
    "Pre-filter:     Lag compensator with:\n",
    "                - -60 deg minimum @ 2 khz (x²)\n",
    "                - -45 deg minimum @ 2 khz (x³)\n",
    "\n",
    "Post-filter x²: Lead compensator with:\n",
    "                - +60 deg maximum @ 4 khz (x²)\n",
    "                - +45 deg maximum @ 6 khz (x³)\n",
    "\n",
    "\"\"\"\n",
    "\n",
    "config = Configuration()\n",
    "\n",
    "config.update('comment', comment)\n",
    "config.update('tags', ['software_simulation', 'prove_of_concept', 'solvable', 'author'])\n",
    "config.update('dut', 'serial_number')\n",
    "config.update('seed', seed)\n",
    "config.update('samplerate', sample_rate)\n",
    "config.update('active_sm_paths', [1, 2, 3])\n",
    "\n",
    "config.update('probes_n',  probes_n)\n",
    "config.update('probes_fbase',  probes_fbase)\n",
    "config.update('probes_fvoice',  probes_fvoice)\n",
    "config.update('probes_batches',  probes_batches)\n",
    "config.update('probes_resolution',  probes_resolution)\n",
    "config.update('probes_signaltime',  probes_signaltime)\n",
    "config.update('probes_transient_time',  probes_transient_time)\n",
    "\n",
    "# Boundary conditions for Jakobians to have fullrank:\n",
    "config.update('constraint_amp_s2', 'ONE')\n",
    "config.update('constraint_amp_s3', 'ONE')\n",
    "config.update('constraint_phase_s2', 'ONE')\n",
    "config.update('constraint_phase_s3', 'ONE')\n",
    "\n",
    "# Filter definition:\n",
    "\n",
    "config.update('filter1_type', 'Notch 2nd')\n",
    "config.update('filter1_fc', 1_000)\n",
    "config.update('filter1_q',  0.707)\n",
    "config.update('filter1_tabs',  1024)\n",
    "\n",
    "config.update('filter21_type', 'Low-pass 1st')\n",
    "config.update('filter21_fc', 10_000)\n",
    "config.update('filter21_q',  0.707)\n",
    "config.update('filter21_gain',  1)\n",
    "config.update('filter21_tabs',  128)\n",
    "\n",
    "config.update('filter22_type', 'High-pass 1st')\n",
    "config.update('filter22_fc', 1_000)\n",
    "config.update('filter22_q',  0.707)\n",
    "config.update('filter22_gain',  1)\n",
    "config.update('filter22_tabs',  128)\n",
    "\n",
    "config.update('filter31_type', 'Low-pass 1st')\n",
    "config.update('filter31_fc', 10_000)\n",
    "config.update('filter31_q',  0.707)\n",
    "config.update('filter31_gain',  1)\n",
    "config.update('filter31_tabs',  128)\n",
    "\n",
    "config.update('filter32_type', 'High-pass 1st')\n",
    "config.update('filter32_fc', 1_000)\n",
    "config.update('filter32_q',  0.707)\n",
    "config.update('filter32_gain',  1)\n",
    "config.update('filter32_tabs',  128)\n",
    "\n",
    "config.save('prove_of_concept')\n",
    "\n",
    "if verbose:\n",
    "    print(config)"
   ],
   "id": "41fd586889de35c4",
   "outputs": [],
   "execution_count": 3
  },
  {
   "cell_type": "code",
   "execution_count": null,
   "id": "97262bc1-fcbd-4768-babd-f2613630b2d6",
   "metadata": {},
   "outputs": [],
   "source": [
    "####\n",
    "# New Experiment ----------\n",
    "####"
   ]
  }
 ],
 "metadata": {
  "kernelspec": {
   "display_name": "da01_IPK",
   "language": "python",
   "name": "da01_ipk"
  },
  "language_info": {
   "codemirror_mode": {
    "name": "ipython",
    "version": 3
   },
   "file_extension": ".py",
   "mimetype": "text/x-python",
   "name": "python",
   "nbconvert_exporter": "python",
   "pygments_lexer": "ipython3",
   "version": "3.10.12"
  }
 },
 "nbformat": 4,
 "nbformat_minor": 5
}
